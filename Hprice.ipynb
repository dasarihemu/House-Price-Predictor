{
  "nbformat": 4,
  "nbformat_minor": 0,
  "metadata": {
    "colab": {
      "provenance": [],
      "authorship_tag": "ABX9TyMvvzE7jOr7nbcvYvIfRw9F",
      "include_colab_link": true
    },
    "kernelspec": {
      "name": "python3",
      "display_name": "Python 3"
    },
    "language_info": {
      "name": "python"
    }
  },
  "cells": [
    {
      "cell_type": "markdown",
      "metadata": {
        "id": "view-in-github",
        "colab_type": "text"
      },
      "source": [
        "<a href=\"https://colab.research.google.com/github/dasarihemu/House-Price-Predictor/blob/main/Hprice.ipynb\" target=\"_parent\"><img src=\"https://colab.research.google.com/assets/colab-badge.svg\" alt=\"Open In Colab\"/></a>"
      ]
    },
    {
      "cell_type": "code",
      "execution_count": null,
      "metadata": {
        "colab": {
          "base_uri": "https://localhost:8080/"
        },
        "id": "IaDe-ND1tX6o",
        "outputId": "60fd7f92-fde2-4dff-dcd3-cf32fcdb5a03"
      },
      "outputs": [
        {
          "output_type": "stream",
          "name": "stdout",
          "text": [
            "Mean Absolute Error: 8901.290743964839\n",
            "Mean Squared Error: 114170418.45453785\n",
            "Root Mean Squared Error: 10685.05584704815\n",
            "R-squared Score: 0.8062934622232144\n",
            "Predicted House Price: 105487.43096840294\n"
          ]
        }
      ],
      "source": [
        "import pandas as pd\n",
        "import numpy as np\n",
        "from sklearn.model_selection import train_test_split\n",
        "from sklearn.linear_model import LinearRegression\n",
        "from sklearn.metrics import mean_absolute_error, mean_squared_error, r2_score\n",
        "from sklearn.preprocessing import OneHotEncoder\n",
        "\n",
        "# Load dataset\n",
        "df = pd.read_csv(\"/content/house-prices.csv\")\n",
        "\n",
        "# Feature selection (modify according to dataset)\n",
        "X = df[['SqFt', 'Bedrooms', 'Bathrooms', 'Offers', 'Brick', 'Neighborhood']]\n",
        "y = df['Price']\n",
        "encoder = OneHotEncoder(sparse_output=False, handle_unknown='ignore') # sparse=False for compatibility with LinearRegression\n",
        "\n",
        "# Fit and transform the categorical columns ('Brick' and 'Neighborhood')\n",
        "categorical_features = ['Brick', 'Neighborhood']  # List of categorical columns\n",
        "encoded_features = encoder.fit_transform(X[categorical_features])\n",
        "encoded_features_df = pd.DataFrame(encoded_features, columns=encoder.get_feature_names_out(categorical_features))\n",
        "\n",
        "# Concatenate the encoded data with the original features\n",
        "X = pd.concat([X, encoded_features_df], axis=1)\n",
        "\n",
        "# Drop the original 'Brick' column (optional)\n",
        "X.drop(categorical_features, axis=1, inplace=True)\n",
        "# Splitting the dataset\n",
        "X_train, X_test, y_train, y_test = train_test_split(X, y, test_size=0.2, random_state=42)\n",
        "\n",
        "# Model training\n",
        "model = LinearRegression()\n",
        "model.fit(X_train, y_train)\n",
        "\n",
        "# Predictions\n",
        "y_pred = model.predict(X_test)\n",
        "\n",
        "# Evaluating the model\n",
        "mae = mean_absolute_error(y_test, y_pred)\n",
        "mse = mean_squared_error(y_test, y_pred)\n",
        "rmse = np.sqrt(mse)\n",
        "r2 = r2_score(y_test, y_pred)\n",
        "\n",
        "# Output results\n",
        "print(f\"Mean Absolute Error: {mae}\")\n",
        "print(f\"Mean Squared Error: {mse}\")\n",
        "print(f\"Root Mean Squared Error: {rmse}\")\n",
        "print(f\"R-squared Score: {r2}\")\n",
        "\n",
        "# Predicting on new data (example input)\n",
        "new_house = pd.DataFrame([{'SqFt': 1790, 'Bedrooms': 3, 'Bathrooms': 3, 'Offers': 3, 'Brick': 'No', 'Neighborhood': 'East'}])  # Example values as a DataFrame\n",
        "# Transform the new data using the same encoder\n",
        "encoded_new_house = encoder.transform(new_house[['Brick', 'Neighborhood']])\n",
        "encoded_new_house_df = pd.DataFrame(encoded_new_house, columns=encoder.get_feature_names_out(['Brick', 'Neighborhood']))\n",
        "\n",
        "# Concatenate the encoded data with the original features for the new house\n",
        "new_house = pd.concat([new_house, encoded_new_house_df], axis=1)\n",
        "new_house.drop(['Brick', 'Neighborhood'], axis=1, inplace=True)  # Drop original categorical columns\n",
        "predicted_price = model.predict(new_house)\n",
        "print(f\"Predicted House Price: {predicted_price[0]}\")\n"
      ]
    }
  ]
}